{
 "cells": [
  {
   "cell_type": "code",
   "execution_count": 3,
   "metadata": {},
   "outputs": [],
   "source": [
    "import numpy as np\n",
    "import os\n",
    "import json\n",
    "from pprint import pprint"
   ]
  },
  {
   "cell_type": "code",
   "execution_count": 4,
   "metadata": {},
   "outputs": [
    {
     "name": "stderr",
     "output_type": "stream",
     "text": [
      "unable to import 'smart_open.gcs', disabling that module\n"
     ]
    }
   ],
   "source": [
    "import gensim\n",
    "from gensim import corpora"
   ]
  },
  {
   "cell_type": "markdown",
   "metadata": {},
   "source": [
    "## read few files from the dataset"
   ]
  },
  {
   "cell_type": "code",
   "execution_count": 5,
   "metadata": {},
   "outputs": [],
   "source": [
    "comm_use_subset_files =os.listdir('2020-03-13/comm_use_subset/comm_use_subset')"
   ]
  },
  {
   "cell_type": "code",
   "execution_count": 6,
   "metadata": {},
   "outputs": [
    {
     "name": "stdout",
     "output_type": "stream",
     "text": [
      "9000\n"
     ]
    }
   ],
   "source": [
    "#all the json files in a directory\n",
    "#comm_use_subset_files =os.listdir('2020-03-13/comm_use_subset/comm_use_subset')\n",
    "\n",
    "all_files = []\n",
    "\n",
    "#open that file as jason and then load\n",
    "for filename in comm_use_subset_files:\n",
    "    with open(f'2020-03-13/comm_use_subset/comm_use_subset/{filename}') as json_file:\n",
    "        file = json.load(json_file)\n",
    "        all_files.append(file)\n",
    "    \n",
    "print(len(all_files))   "
   ]
  },
  {
   "cell_type": "markdown",
   "metadata": {},
   "source": [
    "## get the abstract for files"
   ]
  },
  {
   "cell_type": "code",
   "execution_count": 8,
   "metadata": {},
   "outputs": [
    {
     "name": "stdout",
     "output_type": "stream",
     "text": [
      "['Dendritic cells (DCs) are specialized antigen-presenting cells (APCs) that have a key role in immune responses because they bridge the innate and adaptive arms of the immune system. They mature upon recognition of pathogens and upregulate MHC molecules and costimulatory receptors to activate antigen-specific CD4 + and CD8 + T cells. It is now well established that DCs are not a homogeneous population but are composed of different subsets with specialized functions in immune responses to specific pathogens. Upon viral infections, plasmacytoid DCs (pDCs) rapidly produce large amounts of IFN-α, which has potent antiviral functions and activates several other immune cells. However, pDCs are not particularly potent APCs and induce the tolerogenic cytokine IL-10 in CD4 + T cells. In contrast, myeloid DCs (mDCs) are very potent APCs and possess the unique capacity to prime naive T cells and consequently to initiate a primary adaptive immune response. Different subsets of mDCs with specialized functions have been identified. In mice, CD8α + mDCs capture antigenic material from necrotic cells, secrete high levels of IL-12, and prime Th1 and cytotoxic T-cell responses to control intracellular pathogens. Conversely, CD8α − mDCs preferentially prime CD4 + T cells and promote Th2 or Th17 differentiation. BDCA-3 + mDC2 are the human homologue of CD8α + mDCs, since they share the expression of several key molecules, the capacity to cross-present antigens to CD8 + T-cells and to produce IFN-λ. However, although several features of the DC network are conserved between humans and mice, the expression of several toll-like receptors as well as the production of cytokines that regulate T-cell differentiation are different. Intriguingly, recent data suggest specific roles for human DC subsets in immune responses against individual pathogens. The biology of human DC subsets holds the promise to be exploitable in translational medicine, in particular for the development of vaccines against persistent infections or cancer.', \"Dengue has a negative impact in low-and lower middle-income countries, but also affects upper middle-and high-income countries. Despite the efforts at controlling this disease, it is unclear why dengue remains an issue in affluent countries. A better understanding of dengue epidemiology and its burden, and those of chikungunya virus and Zika virus which share vectors with dengue, is required to prevent the emergence of these diseases in highincome countries in the future. The purpose of this review was to assess the relative burden of dengue in four high-income countries and to appraise the similarities and differences in dengue transmission. We searched PubMed, ISI Web of Science, and Google Scholar using specific keywords for articles published up to 05 May 2016. We found that outbreaks rarely occur where only Aedes albopictus is present. The main similarities between countries uncovered by our review are the proximity to dengue-endemic countries, the presence of a competent mosquito vector, a largely nonimmune population, and a lack of citizens' engagement in control of mosquito breeding. We identified important epidemiological and environmental issues including the increase of local transmission despite control efforts, population growth, difficulty locating larval sites, and increased human mobility from neighboring endemic countries. Budget cuts in health and lack of practical vaccines contribute to an increased risk. To be successful, dengue-control programs for high-income countries must consider the epidemiology of dengue in other countries and use this information to minimize virus importation, improve the control of the cryptic larval habitat, and engage the community in reducing vector breeding. Finally, the presence of a communicable disease center is critical for managing and reducing future disease risks.\"]\n"
     ]
    }
   ],
   "source": [
    "#now try with few files only\n",
    "n_files = 3\n",
    "\n",
    "all_abstract = []\n",
    "\n",
    "for f in range(1,n_files+1):\n",
    "    #print(f)\n",
    "    file = all_files[f]\n",
    "    if (file['abstract'] == []):\n",
    "        pass\n",
    "    else:\n",
    "        abstract = file['abstract'][0]['text']\n",
    "    #pprint(abstract)\n",
    "    all_abstract.append(abstract)\n",
    "    \n",
    "print(all_abstract[:2])"
   ]
  },
  {
   "cell_type": "markdown",
   "metadata": {},
   "source": [
    "## get the titles for files"
   ]
  },
  {
   "cell_type": "code",
   "execution_count": 9,
   "metadata": {},
   "outputs": [
    {
     "name": "stdout",
     "output_type": "stream",
     "text": [
      "['immunity to pathogens taught by specialized human dendritic cell subsets', 'Public Health Responses to and Challenges for the Control of Dengue Transmission in High-Income Countries: Four Case Studies', 'a section of the journal Frontiers in Pediatrics A Review of Pediatric Critical Care in Resource-Limited Settings: A Look at Past, Present, and Future Directions']\n"
     ]
    }
   ],
   "source": [
    "#now try with few files only\n",
    "n_files = 100\n",
    "\n",
    "all_title = []\n",
    "\n",
    "for f in range(1,n_files+1):\n",
    "    #print(f)\n",
    "    file = all_files[f]\n",
    "    title = file[\"metadata\"][\"title\"]\n",
    "    #pprint(file[\"metadata\"])\n",
    "    all_title.append(title)\n",
    "    \n",
    "print(all_title[:3])"
   ]
  },
  {
   "cell_type": "markdown",
   "metadata": {},
   "source": [
    "## read each line from a file and create a Bag of Words Corpus in gensim\n",
    "\n",
    "1. tokenize\n",
    "2. create a dictionary\n",
    "3. create a doc2bow corpus"
   ]
  },
  {
   "cell_type": "code",
   "execution_count": 10,
   "metadata": {},
   "outputs": [],
   "source": [
    "from gensim.utils import simple_preprocess\n",
    "\n",
    "# Tokenize the docs\n",
    "tokenized_list = [simple_preprocess(line) for line in all_abstract]\n",
    "#pprint(tokenized_list)\n",
    "\n",
    "# Create the Corpus, creating a empty corpus ??\n",
    "#mydict = corpora.Dictionary(tokenized_list) #this will also works\n",
    "mydict = corpora.Dictionary()\n",
    "#print(mydict)\n",
    "\n",
    "mycorpus = [mydict.doc2bow(word, allow_update=True) for word in tokenized_list]\n",
    "#pprint(mycorpus)"
   ]
  },
  {
   "cell_type": "markdown",
   "metadata": {},
   "source": [
    "# Computing Pairwise Similarities - "
   ]
  },
  {
   "cell_type": "code",
   "execution_count": 11,
   "metadata": {},
   "outputs": [],
   "source": [
    "from sklearn.feature_extraction.text import TfidfVectorizer\n",
    "\n",
    "#documents = [open(f) for f in text_files]\n",
    "tfidf = TfidfVectorizer().fit_transform(all_title)\n",
    "# no need to normalize, since Vectorizer will return normalized tf-idf\n",
    "pairwise_similarity = tfidf * tfidf.T"
   ]
  },
  {
   "cell_type": "code",
   "execution_count": 13,
   "metadata": {
    "scrolled": true
   },
   "outputs": [
    {
     "name": "stderr",
     "output_type": "stream",
     "text": [
      "/anaconda3/lib/python3.7/site-packages/scipy/sparse/_index.py:126: SparseEfficiencyWarning: Changing the sparsity structure of a csr_matrix is expensive. lil_matrix is more efficient.\n",
      "  self._set_arrayXarray(i, j, x)\n"
     ]
    }
   ],
   "source": [
    "#fill the diagonal elements of the matrix\n",
    "n, _ = pairwise_similarity.shape  \n",
    "pairwise_similarity[np.arange(n), np.arange(n)] = -1.0"
   ]
  },
  {
   "cell_type": "code",
   "execution_count": 14,
   "metadata": {},
   "outputs": [
    {
     "data": {
      "text/plain": [
       "<100x100 sparse matrix of type '<class 'numpy.float64'>'\n",
       "\twith 7858 stored elements in Compressed Sparse Row format>"
      ]
     },
     "execution_count": 14,
     "metadata": {},
     "output_type": "execute_result"
    }
   ],
   "source": [
    "pairwise_similarity"
   ]
  },
  {
   "cell_type": "code",
   "execution_count": 15,
   "metadata": {},
   "outputs": [],
   "source": [
    "#convert the sparse array to a NumPy array via .toarray() or .A\n",
    "arr = pairwise_similarity.A"
   ]
  },
  {
   "cell_type": "code",
   "execution_count": 16,
   "metadata": {},
   "outputs": [
    {
     "data": {
      "text/plain": [
       "array([[-1.        ,  0.0446016 ,  0.        , ...,  0.        ,\n",
       "         0.        ,  0.        ],\n",
       "       [ 0.0446016 , -1.        ,  0.04368901, ...,  0.01571336,\n",
       "         0.05185502,  0.03530109],\n",
       "       [ 0.        ,  0.04368901, -1.        , ...,  0.02660058,\n",
       "         0.03238621,  0.04301803],\n",
       "       ...,\n",
       "       [ 0.        ,  0.01571336,  0.02660058, ..., -1.        ,\n",
       "         0.05268162,  0.01612003],\n",
       "       [ 0.        ,  0.05185502,  0.03238621, ...,  0.05268162,\n",
       "        -1.        ,  0.01297453],\n",
       "       [ 0.        ,  0.03530109,  0.04301803, ...,  0.01612003,\n",
       "         0.01297453, -1.        ]])"
      ]
     },
     "execution_count": 16,
     "metadata": {},
     "output_type": "execute_result"
    }
   ],
   "source": [
    "arr"
   ]
  },
  {
   "cell_type": "code",
   "execution_count": 18,
   "metadata": {},
   "outputs": [
    {
     "data": {
      "text/plain": [
       "1"
      ]
     },
     "execution_count": 18,
     "metadata": {},
     "output_type": "execute_result"
    }
   ],
   "source": [
    "input_doc = all_title[0]\n",
    "input_idx = all_title.index(input_doc) + 1 #since all_abstract counting starts at 1 -->range(1,nfiles)\n",
    "input_idx"
   ]
  },
  {
   "cell_type": "code",
   "execution_count": 20,
   "metadata": {},
   "outputs": [
    {
     "data": {
      "text/plain": [
       "'immunity to pathogens taught by specialized human dendritic cell subsets'"
      ]
     },
     "execution_count": 20,
     "metadata": {},
     "output_type": "execute_result"
    }
   ],
   "source": [
    "#query\n",
    "input_doc"
   ]
  },
  {
   "cell_type": "code",
   "execution_count": 22,
   "metadata": {
    "scrolled": true
   },
   "outputs": [
    {
     "data": {
      "text/plain": [
       "46"
      ]
     },
     "execution_count": 22,
     "metadata": {},
     "output_type": "execute_result"
    }
   ],
   "source": [
    "#query\n",
    "pairwise_similarity[input_idx].argmax() "
   ]
  },
  {
   "cell_type": "code",
   "execution_count": 23,
   "metadata": {},
   "outputs": [
    {
     "data": {
      "text/plain": [
       "'Validation of three geolocation strategies for health-facility attendees for research and public health surveillance in a rural setting in western Kenya'"
      ]
     },
     "execution_count": 23,
     "metadata": {},
     "output_type": "execute_result"
    }
   ],
   "source": [
    "all_title[pairwise_similarity[input_idx].argmax() ]"
   ]
  },
  {
   "cell_type": "markdown",
   "metadata": {},
   "source": [
    "### So, the `pairwise_similarity` matrix able to find the correct abstract related to the given title. "
   ]
  },
  {
   "cell_type": "markdown",
   "metadata": {},
   "source": [
    "### How to find the top 5 most similar articles from `pairwise_similarity` matrix ??"
   ]
  },
  {
   "cell_type": "code",
   "execution_count": null,
   "metadata": {},
   "outputs": [],
   "source": []
  },
  {
   "cell_type": "markdown",
   "metadata": {},
   "source": [
    "## Alternative approaches to try :"
   ]
  },
  {
   "cell_type": "markdown",
   "metadata": {},
   "source": [
    "### 1. Create the TF-IDF model"
   ]
  },
  {
   "cell_type": "code",
   "execution_count": 24,
   "metadata": {},
   "outputs": [],
   "source": [
    "from gensim import models\n",
    "import numpy as np\n",
    "\n",
    "# Create the TF-IDF model\n",
    "tfidf = models.TfidfModel(mycorpus, smartirs='ntc')\n",
    "#tfidf[mycorpus]\n",
    "\n",
    "# # Show the TF-IDF weights\n",
    "# for doc in tfidf[mycorpus]:\n",
    "#     print([[mydict[id],np.around(freq, decimals=2)] for id, freq in doc]) \n"
   ]
  },
  {
   "cell_type": "markdown",
   "metadata": {},
   "source": [
    "#### Create bigram and trigram using Phrses model, but how it helps ?"
   ]
  },
  {
   "cell_type": "code",
   "execution_count": 25,
   "metadata": {},
   "outputs": [
    {
     "name": "stdout",
     "output_type": "stream",
     "text": [
      "['dendritic', 'cells', 'dcs', 'are', 'specialized', 'antigen', 'presenting', 'cells', 'apcs', 'that', 'have', 'key', 'role', 'in', 'immune', 'responses', 'because', 'they', 'bridge', 'the', 'innate', 'and', 'adaptive', 'arms', 'of', 'the', 'immune', 'system', 'they', 'mature', 'upon', 'recognition', 'of', 'pathogens', 'and', 'upregulate', 'mhc', 'molecules', 'and', 'costimulatory', 'receptors', 'to', 'activate', 'antigen', 'specific', 'cd', 'and', 'cd_cells', 'it', 'is', 'now', 'well', 'established', 'that', 'dcs', 'are', 'not', 'homogeneous', 'population', 'but', 'are', 'composed', 'of', 'different', 'subsets', 'with', 'specialized', 'functions', 'in', 'immune', 'responses', 'to', 'specific', 'pathogens', 'upon', 'viral', 'infections', 'plasmacytoid', 'dcs', 'pdcs', 'rapidly', 'produce', 'large', 'amounts', 'of', 'ifn', 'which', 'has', 'potent', 'antiviral', 'functions', 'and', 'activates', 'several', 'other', 'immune', 'cells', 'however', 'pdcs', 'are', 'not', 'particularly', 'potent', 'apcs', 'and', 'induce', 'the', 'tolerogenic', 'cytokine', 'il', 'in', 'cd_cells', 'in', 'contrast', 'myeloid', 'dcs', 'mdcs', 'are', 'very', 'potent', 'apcs', 'and', 'possess', 'the', 'unique', 'capacity', 'to', 'prime', 'naive', 'cells', 'and', 'consequently', 'to', 'initiate', 'primary', 'adaptive', 'immune', 'response', 'different', 'subsets', 'of', 'mdcs', 'with', 'specialized', 'functions', 'have', 'been', 'identified', 'in', 'mice', 'cd', 'mdcs', 'capture', 'antigenic', 'material', 'from', 'necrotic', 'cells', 'secrete', 'high', 'levels', 'of', 'il', 'and', 'prime', 'th', 'and', 'cytotoxic', 'cell', 'responses', 'to', 'control', 'intracellular', 'pathogens', 'conversely', 'cd', 'mdcs', 'preferentially', 'prime', 'cd_cells', 'and', 'promote', 'th', 'or', 'th', 'differentiation', 'bdca', 'mdc', 'are', 'the', 'human', 'homologue', 'of', 'cd', 'mdcs', 'since', 'they', 'share', 'the', 'expression', 'of', 'several', 'key', 'molecules', 'the', 'capacity', 'to', 'cross', 'present', 'antigens', 'to', 'cd_cells', 'and', 'to', 'produce', 'ifn', 'however', 'although', 'several', 'features', 'of', 'the', 'dc', 'network', 'are', 'conserved', 'between', 'humans', 'and', 'mice', 'the', 'expression', 'of', 'several', 'toll', 'like', 'receptors', 'as', 'well', 'as', 'the', 'production', 'of', 'cytokines', 'that', 'regulate', 'cell', 'differentiation', 'are', 'different', 'intriguingly', 'recent', 'data', 'suggest', 'specific', 'roles', 'for', 'human', 'dc', 'subsets', 'in', 'immune', 'responses', 'against', 'individual', 'pathogens', 'the', 'biology', 'of', 'human', 'dc', 'subsets', 'holds', 'the', 'promise', 'to', 'be', 'exploitable', 'in', 'translational', 'medicine', 'in', 'particular', 'for', 'the', 'development', 'of', 'vaccines', 'against', 'persistent', 'infections', 'or', 'cancer']\n"
     ]
    }
   ],
   "source": [
    "#build bigram model from tokenosed list\n",
    "bigram = gensim.models.phrases.Phrases(tokenized_list, min_count=3, threshold=10)\n",
    "#print(bigram[mycorpus[0]])\n",
    "print(bigram[tokenized_list[0]])"
   ]
  },
  {
   "cell_type": "code",
   "execution_count": 26,
   "metadata": {},
   "outputs": [
    {
     "name": "stdout",
     "output_type": "stream",
     "text": [
      "['dendritic', 'cells', 'dcs', 'are', 'specialized', 'antigen', 'presenting', 'cells', 'apcs', 'that', 'have', 'key', 'role', 'in', 'immune', 'responses', 'because', 'they', 'bridge', 'the', 'innate', 'and', 'adaptive', 'arms', 'of', 'the', 'immune', 'system', 'they', 'mature', 'upon', 'recognition', 'of', 'pathogens', 'and', 'upregulate', 'mhc', 'molecules', 'and', 'costimulatory', 'receptors', 'to', 'activate', 'antigen', 'specific', 'cd', 'and', 'cd_cells', 'it', 'is', 'now', 'well', 'established', 'that', 'dcs', 'are', 'not', 'homogeneous', 'population', 'but', 'are', 'composed', 'of', 'different', 'subsets', 'with', 'specialized', 'functions', 'in', 'immune', 'responses', 'to', 'specific', 'pathogens', 'upon', 'viral', 'infections', 'plasmacytoid', 'dcs', 'pdcs', 'rapidly', 'produce', 'large', 'amounts', 'of', 'ifn', 'which', 'has', 'potent', 'antiviral', 'functions', 'and', 'activates', 'several', 'other', 'immune', 'cells', 'however', 'pdcs', 'are', 'not', 'particularly', 'potent', 'apcs', 'and', 'induce', 'the', 'tolerogenic', 'cytokine', 'il', 'in', 'cd_cells', 'in', 'contrast', 'myeloid', 'dcs', 'mdcs', 'are', 'very', 'potent', 'apcs', 'and', 'possess', 'the', 'unique', 'capacity', 'to', 'prime', 'naive', 'cells', 'and', 'consequently', 'to', 'initiate', 'primary', 'adaptive', 'immune', 'response', 'different', 'subsets', 'of', 'mdcs', 'with', 'specialized', 'functions', 'have', 'been', 'identified', 'in', 'mice', 'cd', 'mdcs', 'capture', 'antigenic', 'material', 'from', 'necrotic', 'cells', 'secrete', 'high', 'levels', 'of', 'il', 'and', 'prime', 'th', 'and', 'cytotoxic', 'cell', 'responses', 'to', 'control', 'intracellular', 'pathogens', 'conversely', 'cd', 'mdcs', 'preferentially', 'prime', 'cd_cells', 'and', 'promote', 'th', 'or', 'th', 'differentiation', 'bdca', 'mdc', 'are', 'the', 'human', 'homologue', 'of', 'cd', 'mdcs', 'since', 'they', 'share', 'the', 'expression', 'of', 'several', 'key', 'molecules', 'the', 'capacity', 'to', 'cross', 'present', 'antigens', 'to', 'cd_cells', 'and', 'to', 'produce', 'ifn', 'however', 'although', 'several', 'features', 'of', 'the', 'dc', 'network', 'are', 'conserved', 'between', 'humans', 'and', 'mice', 'the', 'expression', 'of', 'several', 'toll', 'like', 'receptors', 'as', 'well', 'as', 'the', 'production', 'of', 'cytokines', 'that', 'regulate', 'cell', 'differentiation', 'are', 'different', 'intriguingly', 'recent', 'data', 'suggest', 'specific', 'roles', 'for', 'human', 'dc', 'subsets', 'in', 'immune', 'responses', 'against', 'individual', 'pathogens', 'the', 'biology', 'of', 'human', 'dc', 'subsets', 'holds', 'the', 'promise', 'to', 'be', 'exploitable', 'in', 'translational', 'medicine', 'in', 'particular', 'for', 'the', 'development', 'of', 'vaccines', 'against', 'persistent', 'infections', 'or', 'cancer']\n"
     ]
    }
   ],
   "source": [
    "#build trigram model\n",
    "trigram = gensim.models.phrases.Phrases(bigram[tokenized_list], threshold=10)\n",
    "\n",
    "# Construct trigram\n",
    "print(trigram[bigram[tokenized_list[0]]])\n"
   ]
  },
  {
   "cell_type": "markdown",
   "metadata": {},
   "source": [
    "### 2. create a LSI topic model using gensim?\n"
   ]
  },
  {
   "cell_type": "code",
   "execution_count": 27,
   "metadata": {},
   "outputs": [],
   "source": [
    "from gensim.models import LsiModel\n",
    "\n",
    "# Build the LSI Model\n",
    "lsi_model = LsiModel(corpus=mycorpus, id2word=mydict, num_topics=7, decay=0.5)\n"
   ]
  },
  {
   "cell_type": "code",
   "execution_count": null,
   "metadata": {},
   "outputs": [],
   "source": []
  },
  {
   "cell_type": "markdown",
   "metadata": {},
   "source": [
    "### 3. train Word2Vec model using gensim"
   ]
  },
  {
   "cell_type": "code",
   "execution_count": 28,
   "metadata": {},
   "outputs": [
    {
     "name": "stdout",
     "output_type": "stream",
     "text": [
      "[(0,\n",
      "  '0.443*\"the\" + 0.430*\"and\" + 0.428*\"of\" + 0.288*\"in\" + 0.286*\"to\" + '\n",
      "  '0.149*\"countries\" + 0.134*\"are\" + 0.129*\"dengue\" + 0.128*\"cells\" + '\n",
      "  '0.114*\"cd\"'),\n",
      " (1,\n",
      "  '0.296*\"countries\" + -0.285*\"cells\" + 0.261*\"dengue\" + -0.253*\"cd\" + '\n",
      "  '-0.218*\"are\" + -0.190*\"immune\" + -0.158*\"mdcs\" + -0.127*\"dcs\" + '\n",
      "  '-0.127*\"subsets\" + -0.127*\"pathogens\"'),\n",
      " (2,\n",
      "  '-0.255*\"settings\" + -0.255*\"care\" + -0.235*\"critical\" + -0.220*\"to\" + '\n",
      "  '-0.192*\"limited\" + -0.192*\"mortality\" + -0.192*\"resource\" + 0.182*\"dengue\" '\n",
      "  '+ -0.171*\"these\" + 0.138*\"countries\"')]\n"
     ]
    },
    {
     "name": "stderr",
     "output_type": "stream",
     "text": [
      "/anaconda3/lib/python3.7/site-packages/gensim/models/base_any2vec.py:743: UserWarning: C extension not loaded, training will be slow. Install a C compiler and reinstall gensim for fast training.\n",
      "  \"C extension not loaded, training will be slow. \"\n"
     ]
    }
   ],
   "source": [
    "# View Topics\n",
    "pprint(lsi_model.print_topics(-1))### train Word2Vec model using gensim\n",
    "\n",
    "from gensim.models.word2vec import Word2Vec\n",
    "from multiprocessing import cpu_count\n",
    "#import gensim.downloader as api\n",
    "\n",
    "# Split the data into 2 parts. Part 2 will be used later to update the model\n",
    "data_part1 = tokenized_list[:1000]\n",
    "data_part2 = tokenized_list[1000:]\n",
    "\n",
    "# Train Word2Vec model. Defaults result vector size = 100\n",
    "model = Word2Vec(data_part1, min_count = 0, workers=cpu_count())"
   ]
  },
  {
   "cell_type": "code",
   "execution_count": 29,
   "metadata": {},
   "outputs": [
    {
     "data": {
      "text/plain": [
       "{'dendritic': <gensim.models.keyedvectors.Vocab at 0x1bb2ba940>,\n",
       " 'cells': <gensim.models.keyedvectors.Vocab at 0x1bb368e80>,\n",
       " 'dcs': <gensim.models.keyedvectors.Vocab at 0x1bb373c88>,\n",
       " 'are': <gensim.models.keyedvectors.Vocab at 0x1bb373cc0>,\n",
       " 'specialized': <gensim.models.keyedvectors.Vocab at 0x1bb373a58>,\n",
       " 'antigen': <gensim.models.keyedvectors.Vocab at 0x1bb373e80>,\n",
       " 'presenting': <gensim.models.keyedvectors.Vocab at 0x1bb373f28>,\n",
       " 'apcs': <gensim.models.keyedvectors.Vocab at 0x1bb373f60>,\n",
       " 'that': <gensim.models.keyedvectors.Vocab at 0x1bb373f98>,\n",
       " 'have': <gensim.models.keyedvectors.Vocab at 0x1bb373fd0>,\n",
       " 'key': <gensim.models.keyedvectors.Vocab at 0x1bb373710>,\n",
       " 'role': <gensim.models.keyedvectors.Vocab at 0x1bb39c048>,\n",
       " 'in': <gensim.models.keyedvectors.Vocab at 0x1bb39c080>,\n",
       " 'immune': <gensim.models.keyedvectors.Vocab at 0x1bb39c0b8>,\n",
       " 'responses': <gensim.models.keyedvectors.Vocab at 0x1bb39c0f0>,\n",
       " 'because': <gensim.models.keyedvectors.Vocab at 0x1bb39c128>,\n",
       " 'they': <gensim.models.keyedvectors.Vocab at 0x1bb39c160>,\n",
       " 'bridge': <gensim.models.keyedvectors.Vocab at 0x1bb39c198>,\n",
       " 'the': <gensim.models.keyedvectors.Vocab at 0x1bb39c1d0>,\n",
       " 'innate': <gensim.models.keyedvectors.Vocab at 0x1bb39c208>,\n",
       " 'and': <gensim.models.keyedvectors.Vocab at 0x1bb39c240>,\n",
       " 'adaptive': <gensim.models.keyedvectors.Vocab at 0x1bb39c278>,\n",
       " 'arms': <gensim.models.keyedvectors.Vocab at 0x1bb39c2b0>,\n",
       " 'of': <gensim.models.keyedvectors.Vocab at 0x1bb39c2e8>,\n",
       " 'system': <gensim.models.keyedvectors.Vocab at 0x1bb39c320>,\n",
       " 'mature': <gensim.models.keyedvectors.Vocab at 0x1bb39c358>,\n",
       " 'upon': <gensim.models.keyedvectors.Vocab at 0x1bb39c390>,\n",
       " 'recognition': <gensim.models.keyedvectors.Vocab at 0x1bb39c3c8>,\n",
       " 'pathogens': <gensim.models.keyedvectors.Vocab at 0x1bb39c400>,\n",
       " 'upregulate': <gensim.models.keyedvectors.Vocab at 0x1bb39c438>,\n",
       " 'mhc': <gensim.models.keyedvectors.Vocab at 0x1bb39c470>,\n",
       " 'molecules': <gensim.models.keyedvectors.Vocab at 0x1bb39c4a8>,\n",
       " 'costimulatory': <gensim.models.keyedvectors.Vocab at 0x1bb39c4e0>,\n",
       " 'receptors': <gensim.models.keyedvectors.Vocab at 0x1bb39c518>,\n",
       " 'to': <gensim.models.keyedvectors.Vocab at 0x1bb39c550>,\n",
       " 'activate': <gensim.models.keyedvectors.Vocab at 0x1bb39c588>,\n",
       " 'specific': <gensim.models.keyedvectors.Vocab at 0x1bb39c5c0>,\n",
       " 'cd': <gensim.models.keyedvectors.Vocab at 0x1bb39c5f8>,\n",
       " 'it': <gensim.models.keyedvectors.Vocab at 0x1bb39c630>,\n",
       " 'is': <gensim.models.keyedvectors.Vocab at 0x1bb39c668>,\n",
       " 'now': <gensim.models.keyedvectors.Vocab at 0x1bb39c6a0>,\n",
       " 'well': <gensim.models.keyedvectors.Vocab at 0x1bb39c6d8>,\n",
       " 'established': <gensim.models.keyedvectors.Vocab at 0x1bb39c710>,\n",
       " 'not': <gensim.models.keyedvectors.Vocab at 0x1bb39c748>,\n",
       " 'homogeneous': <gensim.models.keyedvectors.Vocab at 0x1bb39c780>,\n",
       " 'population': <gensim.models.keyedvectors.Vocab at 0x1bb39c7b8>,\n",
       " 'but': <gensim.models.keyedvectors.Vocab at 0x1bb39c7f0>,\n",
       " 'composed': <gensim.models.keyedvectors.Vocab at 0x1bb39c828>,\n",
       " 'different': <gensim.models.keyedvectors.Vocab at 0x1bb39c860>,\n",
       " 'subsets': <gensim.models.keyedvectors.Vocab at 0x1bb39c898>,\n",
       " 'with': <gensim.models.keyedvectors.Vocab at 0x1bb39c8d0>,\n",
       " 'functions': <gensim.models.keyedvectors.Vocab at 0x1bb39c908>,\n",
       " 'viral': <gensim.models.keyedvectors.Vocab at 0x1bb39c940>,\n",
       " 'infections': <gensim.models.keyedvectors.Vocab at 0x1bb39c978>,\n",
       " 'plasmacytoid': <gensim.models.keyedvectors.Vocab at 0x1bb39c9b0>,\n",
       " 'pdcs': <gensim.models.keyedvectors.Vocab at 0x1bb39c9e8>,\n",
       " 'rapidly': <gensim.models.keyedvectors.Vocab at 0x1bb39ca20>,\n",
       " 'produce': <gensim.models.keyedvectors.Vocab at 0x1bb39ca58>,\n",
       " 'large': <gensim.models.keyedvectors.Vocab at 0x1bb39ca90>,\n",
       " 'amounts': <gensim.models.keyedvectors.Vocab at 0x1bb39cac8>,\n",
       " 'ifn': <gensim.models.keyedvectors.Vocab at 0x1bb39cb00>,\n",
       " 'which': <gensim.models.keyedvectors.Vocab at 0x1bb39cb38>,\n",
       " 'has': <gensim.models.keyedvectors.Vocab at 0x1bb39cb70>,\n",
       " 'potent': <gensim.models.keyedvectors.Vocab at 0x1bb39cba8>,\n",
       " 'antiviral': <gensim.models.keyedvectors.Vocab at 0x1bb39cbe0>,\n",
       " 'activates': <gensim.models.keyedvectors.Vocab at 0x1bb39cc18>,\n",
       " 'several': <gensim.models.keyedvectors.Vocab at 0x1bb39cc50>,\n",
       " 'other': <gensim.models.keyedvectors.Vocab at 0x1bb39cc88>,\n",
       " 'however': <gensim.models.keyedvectors.Vocab at 0x1bb39ccc0>,\n",
       " 'particularly': <gensim.models.keyedvectors.Vocab at 0x1bb39ccf8>,\n",
       " 'induce': <gensim.models.keyedvectors.Vocab at 0x1bb39cd30>,\n",
       " 'tolerogenic': <gensim.models.keyedvectors.Vocab at 0x1bb39cd68>,\n",
       " 'cytokine': <gensim.models.keyedvectors.Vocab at 0x1bb39cda0>,\n",
       " 'il': <gensim.models.keyedvectors.Vocab at 0x1bb39cdd8>,\n",
       " 'contrast': <gensim.models.keyedvectors.Vocab at 0x1bb39ce10>,\n",
       " 'myeloid': <gensim.models.keyedvectors.Vocab at 0x1bb39ce48>,\n",
       " 'mdcs': <gensim.models.keyedvectors.Vocab at 0x1bb39ce80>,\n",
       " 'very': <gensim.models.keyedvectors.Vocab at 0x1bb39ceb8>,\n",
       " 'possess': <gensim.models.keyedvectors.Vocab at 0x1bb39cef0>,\n",
       " 'unique': <gensim.models.keyedvectors.Vocab at 0x1bb39cf28>,\n",
       " 'capacity': <gensim.models.keyedvectors.Vocab at 0x1bb39cf60>,\n",
       " 'prime': <gensim.models.keyedvectors.Vocab at 0x1bb39cf98>,\n",
       " 'naive': <gensim.models.keyedvectors.Vocab at 0x1bb39cfd0>,\n",
       " 'consequently': <gensim.models.keyedvectors.Vocab at 0x1bb39e048>,\n",
       " 'initiate': <gensim.models.keyedvectors.Vocab at 0x1bb39e080>,\n",
       " 'primary': <gensim.models.keyedvectors.Vocab at 0x1bb39e0b8>,\n",
       " 'response': <gensim.models.keyedvectors.Vocab at 0x1bb39e0f0>,\n",
       " 'been': <gensim.models.keyedvectors.Vocab at 0x1bb39e128>,\n",
       " 'identified': <gensim.models.keyedvectors.Vocab at 0x1bb39e160>,\n",
       " 'mice': <gensim.models.keyedvectors.Vocab at 0x1bb39e198>,\n",
       " 'capture': <gensim.models.keyedvectors.Vocab at 0x1bb39e1d0>,\n",
       " 'antigenic': <gensim.models.keyedvectors.Vocab at 0x1bb39e208>,\n",
       " 'material': <gensim.models.keyedvectors.Vocab at 0x1bb39e240>,\n",
       " 'from': <gensim.models.keyedvectors.Vocab at 0x1bb39e278>,\n",
       " 'necrotic': <gensim.models.keyedvectors.Vocab at 0x1bb39e2b0>,\n",
       " 'secrete': <gensim.models.keyedvectors.Vocab at 0x1bb39e2e8>,\n",
       " 'high': <gensim.models.keyedvectors.Vocab at 0x1bb39e320>,\n",
       " 'levels': <gensim.models.keyedvectors.Vocab at 0x1bb39e358>,\n",
       " 'th': <gensim.models.keyedvectors.Vocab at 0x1bb39e390>,\n",
       " 'cytotoxic': <gensim.models.keyedvectors.Vocab at 0x1bb39e3c8>,\n",
       " 'cell': <gensim.models.keyedvectors.Vocab at 0x1bb39e400>,\n",
       " 'control': <gensim.models.keyedvectors.Vocab at 0x1bb39e438>,\n",
       " 'intracellular': <gensim.models.keyedvectors.Vocab at 0x1bb39e470>,\n",
       " 'conversely': <gensim.models.keyedvectors.Vocab at 0x1bb39e4a8>,\n",
       " 'preferentially': <gensim.models.keyedvectors.Vocab at 0x1bb39e4e0>,\n",
       " 'promote': <gensim.models.keyedvectors.Vocab at 0x1bb39e518>,\n",
       " 'or': <gensim.models.keyedvectors.Vocab at 0x1bb39e550>,\n",
       " 'differentiation': <gensim.models.keyedvectors.Vocab at 0x1bb39e588>,\n",
       " 'bdca': <gensim.models.keyedvectors.Vocab at 0x1bb39e5c0>,\n",
       " 'mdc': <gensim.models.keyedvectors.Vocab at 0x1bb39e5f8>,\n",
       " 'human': <gensim.models.keyedvectors.Vocab at 0x1bb39e630>,\n",
       " 'homologue': <gensim.models.keyedvectors.Vocab at 0x1bb39e668>,\n",
       " 'since': <gensim.models.keyedvectors.Vocab at 0x1bb39e6a0>,\n",
       " 'share': <gensim.models.keyedvectors.Vocab at 0x1bb39e6d8>,\n",
       " 'expression': <gensim.models.keyedvectors.Vocab at 0x1bb39e710>,\n",
       " 'cross': <gensim.models.keyedvectors.Vocab at 0x1bb39e748>,\n",
       " 'present': <gensim.models.keyedvectors.Vocab at 0x1bb39e780>,\n",
       " 'antigens': <gensim.models.keyedvectors.Vocab at 0x1bb39e7b8>,\n",
       " 'although': <gensim.models.keyedvectors.Vocab at 0x1bb39e7f0>,\n",
       " 'features': <gensim.models.keyedvectors.Vocab at 0x1bb39e828>,\n",
       " 'dc': <gensim.models.keyedvectors.Vocab at 0x1bb39e860>,\n",
       " 'network': <gensim.models.keyedvectors.Vocab at 0x1bb39e898>,\n",
       " 'conserved': <gensim.models.keyedvectors.Vocab at 0x1bb39e8d0>,\n",
       " 'between': <gensim.models.keyedvectors.Vocab at 0x1bb39e908>,\n",
       " 'humans': <gensim.models.keyedvectors.Vocab at 0x1bb39e940>,\n",
       " 'toll': <gensim.models.keyedvectors.Vocab at 0x1bb39e978>,\n",
       " 'like': <gensim.models.keyedvectors.Vocab at 0x1bb39e9b0>,\n",
       " 'as': <gensim.models.keyedvectors.Vocab at 0x1bb39e9e8>,\n",
       " 'production': <gensim.models.keyedvectors.Vocab at 0x1bb39ea20>,\n",
       " 'cytokines': <gensim.models.keyedvectors.Vocab at 0x1bb39ea58>,\n",
       " 'regulate': <gensim.models.keyedvectors.Vocab at 0x1bb39ea90>,\n",
       " 'intriguingly': <gensim.models.keyedvectors.Vocab at 0x1bb39eac8>,\n",
       " 'recent': <gensim.models.keyedvectors.Vocab at 0x1bb39eb00>,\n",
       " 'data': <gensim.models.keyedvectors.Vocab at 0x1bb39eb38>,\n",
       " 'suggest': <gensim.models.keyedvectors.Vocab at 0x1bb39eb70>,\n",
       " 'roles': <gensim.models.keyedvectors.Vocab at 0x1bb39eba8>,\n",
       " 'for': <gensim.models.keyedvectors.Vocab at 0x1bb39ebe0>,\n",
       " 'against': <gensim.models.keyedvectors.Vocab at 0x1bb39ec18>,\n",
       " 'individual': <gensim.models.keyedvectors.Vocab at 0x1bb39ec50>,\n",
       " 'biology': <gensim.models.keyedvectors.Vocab at 0x1bb39ec88>,\n",
       " 'holds': <gensim.models.keyedvectors.Vocab at 0x1bb39ecc0>,\n",
       " 'promise': <gensim.models.keyedvectors.Vocab at 0x1bb39ecf8>,\n",
       " 'be': <gensim.models.keyedvectors.Vocab at 0x1bb39ed30>,\n",
       " 'exploitable': <gensim.models.keyedvectors.Vocab at 0x1bb39ed68>,\n",
       " 'translational': <gensim.models.keyedvectors.Vocab at 0x1bb39eda0>,\n",
       " 'medicine': <gensim.models.keyedvectors.Vocab at 0x1bb39edd8>,\n",
       " 'particular': <gensim.models.keyedvectors.Vocab at 0x1bb39ee10>,\n",
       " 'development': <gensim.models.keyedvectors.Vocab at 0x1bb39ee48>,\n",
       " 'vaccines': <gensim.models.keyedvectors.Vocab at 0x1bb39ee80>,\n",
       " 'persistent': <gensim.models.keyedvectors.Vocab at 0x1bb39eeb8>,\n",
       " 'cancer': <gensim.models.keyedvectors.Vocab at 0x1bb39eef0>,\n",
       " 'dengue': <gensim.models.keyedvectors.Vocab at 0x1bb39ef28>,\n",
       " 'negative': <gensim.models.keyedvectors.Vocab at 0x1bb39ef60>,\n",
       " 'impact': <gensim.models.keyedvectors.Vocab at 0x1bb39ef98>,\n",
       " 'low': <gensim.models.keyedvectors.Vocab at 0x1bb39efd0>,\n",
       " 'lower': <gensim.models.keyedvectors.Vocab at 0x1bb3a1048>,\n",
       " 'middle': <gensim.models.keyedvectors.Vocab at 0x1bb3a1080>,\n",
       " 'income': <gensim.models.keyedvectors.Vocab at 0x1bb3a10b8>,\n",
       " 'countries': <gensim.models.keyedvectors.Vocab at 0x1bb3a10f0>,\n",
       " 'also': <gensim.models.keyedvectors.Vocab at 0x1bb3a1128>,\n",
       " 'affects': <gensim.models.keyedvectors.Vocab at 0x1bb3a1160>,\n",
       " 'upper': <gensim.models.keyedvectors.Vocab at 0x1bb3a1198>,\n",
       " 'despite': <gensim.models.keyedvectors.Vocab at 0x1bb3a11d0>,\n",
       " 'efforts': <gensim.models.keyedvectors.Vocab at 0x1bb3a1208>,\n",
       " 'at': <gensim.models.keyedvectors.Vocab at 0x1bb3a1240>,\n",
       " 'controlling': <gensim.models.keyedvectors.Vocab at 0x1bb3a1278>,\n",
       " 'this': <gensim.models.keyedvectors.Vocab at 0x1bb3a12b0>,\n",
       " 'disease': <gensim.models.keyedvectors.Vocab at 0x1bb3a12e8>,\n",
       " 'unclear': <gensim.models.keyedvectors.Vocab at 0x1bb3a1320>,\n",
       " 'why': <gensim.models.keyedvectors.Vocab at 0x1bb3a1358>,\n",
       " 'remains': <gensim.models.keyedvectors.Vocab at 0x1bb3a1390>,\n",
       " 'an': <gensim.models.keyedvectors.Vocab at 0x1bb3a13c8>,\n",
       " 'issue': <gensim.models.keyedvectors.Vocab at 0x1bb3a1400>,\n",
       " 'affluent': <gensim.models.keyedvectors.Vocab at 0x1bb3a1438>,\n",
       " 'better': <gensim.models.keyedvectors.Vocab at 0x1bb3a1470>,\n",
       " 'understanding': <gensim.models.keyedvectors.Vocab at 0x1bb3a14a8>,\n",
       " 'epidemiology': <gensim.models.keyedvectors.Vocab at 0x1bb3a14e0>,\n",
       " 'its': <gensim.models.keyedvectors.Vocab at 0x1bb3a1518>,\n",
       " 'burden': <gensim.models.keyedvectors.Vocab at 0x1bb3a1550>,\n",
       " 'those': <gensim.models.keyedvectors.Vocab at 0x1bb3a1588>,\n",
       " 'chikungunya': <gensim.models.keyedvectors.Vocab at 0x1bb2bacc0>,\n",
       " 'virus': <gensim.models.keyedvectors.Vocab at 0x1bb2bac18>,\n",
       " 'zika': <gensim.models.keyedvectors.Vocab at 0x1bb2baef0>,\n",
       " 'vectors': <gensim.models.keyedvectors.Vocab at 0x1bb2ba860>,\n",
       " 'required': <gensim.models.keyedvectors.Vocab at 0x1bb2baf28>,\n",
       " 'prevent': <gensim.models.keyedvectors.Vocab at 0x1bb2bab38>,\n",
       " 'emergence': <gensim.models.keyedvectors.Vocab at 0x112587fd0>,\n",
       " 'these': <gensim.models.keyedvectors.Vocab at 0x1bb364ef0>,\n",
       " 'diseases': <gensim.models.keyedvectors.Vocab at 0x1bb364f60>,\n",
       " 'highincome': <gensim.models.keyedvectors.Vocab at 0x1bb364f98>,\n",
       " 'future': <gensim.models.keyedvectors.Vocab at 0x1374b6358>,\n",
       " 'purpose': <gensim.models.keyedvectors.Vocab at 0x1bb2c00f0>,\n",
       " 'review': <gensim.models.keyedvectors.Vocab at 0x1bb2c0048>,\n",
       " 'was': <gensim.models.keyedvectors.Vocab at 0x137281908>,\n",
       " 'assess': <gensim.models.keyedvectors.Vocab at 0x137281c50>,\n",
       " 'relative': <gensim.models.keyedvectors.Vocab at 0x1372817f0>,\n",
       " 'four': <gensim.models.keyedvectors.Vocab at 0x137281b70>,\n",
       " 'appraise': <gensim.models.keyedvectors.Vocab at 0x137281ac8>,\n",
       " 'similarities': <gensim.models.keyedvectors.Vocab at 0x137281e80>,\n",
       " 'differences': <gensim.models.keyedvectors.Vocab at 0x137281a20>,\n",
       " 'transmission': <gensim.models.keyedvectors.Vocab at 0x137281be0>,\n",
       " 'we': <gensim.models.keyedvectors.Vocab at 0x137281a58>,\n",
       " 'searched': <gensim.models.keyedvectors.Vocab at 0x12ccd86a0>,\n",
       " 'pubmed': <gensim.models.keyedvectors.Vocab at 0x13708bf60>,\n",
       " 'isi': <gensim.models.keyedvectors.Vocab at 0x113c0e7b8>,\n",
       " 'web': <gensim.models.keyedvectors.Vocab at 0x113c0e860>,\n",
       " 'science': <gensim.models.keyedvectors.Vocab at 0x1bb2d2a20>,\n",
       " 'google': <gensim.models.keyedvectors.Vocab at 0x1bb2d2710>,\n",
       " 'scholar': <gensim.models.keyedvectors.Vocab at 0x1bb2d2978>,\n",
       " 'using': <gensim.models.keyedvectors.Vocab at 0x1bb2d2860>,\n",
       " 'keywords': <gensim.models.keyedvectors.Vocab at 0x1bb2d2eb8>,\n",
       " 'articles': <gensim.models.keyedvectors.Vocab at 0x1bb2d2c18>,\n",
       " 'published': <gensim.models.keyedvectors.Vocab at 0x1bb2d2748>,\n",
       " 'up': <gensim.models.keyedvectors.Vocab at 0x1bb2d2b00>,\n",
       " 'may': <gensim.models.keyedvectors.Vocab at 0x1bb2d29e8>,\n",
       " 'found': <gensim.models.keyedvectors.Vocab at 0x1bb2d2da0>,\n",
       " 'outbreaks': <gensim.models.keyedvectors.Vocab at 0x1bb2d2cc0>,\n",
       " 'rarely': <gensim.models.keyedvectors.Vocab at 0x1bb2d2630>,\n",
       " 'occur': <gensim.models.keyedvectors.Vocab at 0x1bb2d2ba8>,\n",
       " 'where': <gensim.models.keyedvectors.Vocab at 0x1bb2d2a58>,\n",
       " 'only': <gensim.models.keyedvectors.Vocab at 0x1bb2d2f60>,\n",
       " 'aedes': <gensim.models.keyedvectors.Vocab at 0x1bb2d2fd0>,\n",
       " 'albopictus': <gensim.models.keyedvectors.Vocab at 0x1bb2d2b70>,\n",
       " 'main': <gensim.models.keyedvectors.Vocab at 0x1bb2d2b38>,\n",
       " 'uncovered': <gensim.models.keyedvectors.Vocab at 0x1bb2d2e10>,\n",
       " 'by': <gensim.models.keyedvectors.Vocab at 0x1bb2d2940>,\n",
       " 'our': <gensim.models.keyedvectors.Vocab at 0x1373790b8>,\n",
       " 'proximity': <gensim.models.keyedvectors.Vocab at 0x1128cbef0>,\n",
       " 'endemic': <gensim.models.keyedvectors.Vocab at 0x1128cbfd0>,\n",
       " 'presence': <gensim.models.keyedvectors.Vocab at 0x1bb3a15c0>,\n",
       " 'competent': <gensim.models.keyedvectors.Vocab at 0x1bb3a15f8>,\n",
       " 'mosquito': <gensim.models.keyedvectors.Vocab at 0x1bb3a1630>,\n",
       " 'vector': <gensim.models.keyedvectors.Vocab at 0x1bb3a1668>,\n",
       " 'largely': <gensim.models.keyedvectors.Vocab at 0x1bb3a16a0>,\n",
       " 'nonimmune': <gensim.models.keyedvectors.Vocab at 0x1bb3a16d8>,\n",
       " 'lack': <gensim.models.keyedvectors.Vocab at 0x1bb3a1710>,\n",
       " 'citizens': <gensim.models.keyedvectors.Vocab at 0x1bb3a1748>,\n",
       " 'engagement': <gensim.models.keyedvectors.Vocab at 0x1bb3a1780>,\n",
       " 'breeding': <gensim.models.keyedvectors.Vocab at 0x1bb3a17b8>,\n",
       " 'important': <gensim.models.keyedvectors.Vocab at 0x1bb3a17f0>,\n",
       " 'epidemiological': <gensim.models.keyedvectors.Vocab at 0x1bb3a1828>,\n",
       " 'environmental': <gensim.models.keyedvectors.Vocab at 0x1bb3a1860>,\n",
       " 'issues': <gensim.models.keyedvectors.Vocab at 0x1bb3a1898>,\n",
       " 'including': <gensim.models.keyedvectors.Vocab at 0x1bb3a18d0>,\n",
       " 'increase': <gensim.models.keyedvectors.Vocab at 0x1bb3a1908>,\n",
       " 'local': <gensim.models.keyedvectors.Vocab at 0x1bb3a1940>,\n",
       " 'growth': <gensim.models.keyedvectors.Vocab at 0x1bb3a1978>,\n",
       " 'difficulty': <gensim.models.keyedvectors.Vocab at 0x1bb3a19b0>,\n",
       " 'locating': <gensim.models.keyedvectors.Vocab at 0x1bb3a19e8>,\n",
       " 'larval': <gensim.models.keyedvectors.Vocab at 0x1bb3a1a20>,\n",
       " 'sites': <gensim.models.keyedvectors.Vocab at 0x1bb3a1a58>,\n",
       " 'increased': <gensim.models.keyedvectors.Vocab at 0x1bb3a1a90>,\n",
       " 'mobility': <gensim.models.keyedvectors.Vocab at 0x1bb3a1ac8>,\n",
       " 'neighboring': <gensim.models.keyedvectors.Vocab at 0x1bb3a1b00>,\n",
       " 'budget': <gensim.models.keyedvectors.Vocab at 0x1bb3a1b38>,\n",
       " 'cuts': <gensim.models.keyedvectors.Vocab at 0x1bb3a1b70>,\n",
       " 'health': <gensim.models.keyedvectors.Vocab at 0x1bb3a1ba8>,\n",
       " 'practical': <gensim.models.keyedvectors.Vocab at 0x1bb3a1be0>,\n",
       " 'contribute': <gensim.models.keyedvectors.Vocab at 0x1bb3a1c18>,\n",
       " 'risk': <gensim.models.keyedvectors.Vocab at 0x1bb3a1c50>,\n",
       " 'successful': <gensim.models.keyedvectors.Vocab at 0x1bb3a1c88>,\n",
       " 'programs': <gensim.models.keyedvectors.Vocab at 0x1bb3a1cc0>,\n",
       " 'must': <gensim.models.keyedvectors.Vocab at 0x1bb3a1cf8>,\n",
       " 'consider': <gensim.models.keyedvectors.Vocab at 0x1bb3a1d30>,\n",
       " 'use': <gensim.models.keyedvectors.Vocab at 0x1bb3a1d68>,\n",
       " 'information': <gensim.models.keyedvectors.Vocab at 0x1bb3a1da0>,\n",
       " 'minimize': <gensim.models.keyedvectors.Vocab at 0x1bb3a1dd8>,\n",
       " 'importation': <gensim.models.keyedvectors.Vocab at 0x1bb3a1e10>,\n",
       " 'improve': <gensim.models.keyedvectors.Vocab at 0x1bb3a1e48>,\n",
       " 'cryptic': <gensim.models.keyedvectors.Vocab at 0x1bb3a1e80>,\n",
       " 'habitat': <gensim.models.keyedvectors.Vocab at 0x1bb3a1eb8>,\n",
       " 'engage': <gensim.models.keyedvectors.Vocab at 0x1bb3a1ef0>,\n",
       " 'community': <gensim.models.keyedvectors.Vocab at 0x1bb3a1f28>,\n",
       " 'reducing': <gensim.models.keyedvectors.Vocab at 0x1bb3a1f60>,\n",
       " 'finally': <gensim.models.keyedvectors.Vocab at 0x1bb3a1f98>,\n",
       " 'communicable': <gensim.models.keyedvectors.Vocab at 0x1bb3a1fd0>,\n",
       " 'center': <gensim.models.keyedvectors.Vocab at 0x1bb3a4048>,\n",
       " 'critical': <gensim.models.keyedvectors.Vocab at 0x1bb3a4080>,\n",
       " 'managing': <gensim.models.keyedvectors.Vocab at 0x1bb3a40b8>,\n",
       " 'risks': <gensim.models.keyedvectors.Vocab at 0x1bb3a40f0>,\n",
       " 'fifteen': <gensim.models.keyedvectors.Vocab at 0x1bb3a4128>,\n",
       " 'years': <gensim.models.keyedvectors.Vocab at 0x1bb3a4160>,\n",
       " 'ago': <gensim.models.keyedvectors.Vocab at 0x1bb3a4198>,\n",
       " 'united': <gensim.models.keyedvectors.Vocab at 0x1bb3a41d0>,\n",
       " 'nations': <gensim.models.keyedvectors.Vocab at 0x1bb3a4208>,\n",
       " 'world': <gensim.models.keyedvectors.Vocab at 0x1bb3a4240>,\n",
       " 'leaders': <gensim.models.keyedvectors.Vocab at 0x1bb3a4278>,\n",
       " 'defined': <gensim.models.keyedvectors.Vocab at 0x1bb3a42b0>,\n",
       " 'millenium': <gensim.models.keyedvectors.Vocab at 0x1bb3a42e8>,\n",
       " 'goal': <gensim.models.keyedvectors.Vocab at 0x1bb3a4320>,\n",
       " 'mdg': <gensim.models.keyedvectors.Vocab at 0x1bb3a4358>,\n",
       " 'reduce': <gensim.models.keyedvectors.Vocab at 0x1bb3a4390>,\n",
       " 'under': <gensim.models.keyedvectors.Vocab at 0x1bb3a43c8>,\n",
       " 'year': <gensim.models.keyedvectors.Vocab at 0x1bb3a4400>,\n",
       " 'mortality': <gensim.models.keyedvectors.Vocab at 0x1bb3a4438>,\n",
       " 'rates': <gensim.models.keyedvectors.Vocab at 0x1bb3a4470>,\n",
       " 'two': <gensim.models.keyedvectors.Vocab at 0x1bb3a44a8>,\n",
       " 'thirds': <gensim.models.keyedvectors.Vocab at 0x1bb3a44e0>,\n",
       " 'unfortunately': <gensim.models.keyedvectors.Vocab at 0x1bb3a4518>,\n",
       " 'developing': <gensim.models.keyedvectors.Vocab at 0x1bb3a4550>,\n",
       " 'expected': <gensim.models.keyedvectors.Vocab at 0x1bb3a4588>,\n",
       " 'achieve': <gensim.models.keyedvectors.Vocab at 0x1bb3a45c0>,\n",
       " 'majority': <gensim.models.keyedvectors.Vocab at 0x1bb3a45f8>,\n",
       " 'childhood': <gensim.models.keyedvectors.Vocab at 0x1bb3a4630>,\n",
       " 'deaths': <gensim.models.keyedvectors.Vocab at 0x1bb3a4668>,\n",
       " 'settings': <gensim.models.keyedvectors.Vocab at 0x1bb3a46a0>,\n",
       " 'result': <gensim.models.keyedvectors.Vocab at 0x1bb3a46d8>,\n",
       " 'reversible': <gensim.models.keyedvectors.Vocab at 0x1bb3a4710>,\n",
       " 'causes': <gensim.models.keyedvectors.Vocab at 0x1bb3a4748>,\n",
       " 'effective': <gensim.models.keyedvectors.Vocab at 0x1bb3a4780>,\n",
       " 'pediatric': <gensim.models.keyedvectors.Vocab at 0x1bb3a47b8>,\n",
       " 'emergency': <gensim.models.keyedvectors.Vocab at 0x1bb3a47f0>,\n",
       " 'care': <gensim.models.keyedvectors.Vocab at 0x1bb3a4828>,\n",
       " 'services': <gensim.models.keyedvectors.Vocab at 0x1bb3a4860>,\n",
       " 'could': <gensim.models.keyedvectors.Vocab at 0x1bb3a4898>,\n",
       " 'substantially': <gensim.models.keyedvectors.Vocab at 0x1bb3a48d0>,\n",
       " 'ebola': <gensim.models.keyedvectors.Vocab at 0x1bb3a4908>,\n",
       " 'outbreak': <gensim.models.keyedvectors.Vocab at 0x1bb3a4940>,\n",
       " 'highlighted': <gensim.models.keyedvectors.Vocab at 0x1bb3a4978>,\n",
       " 'fragility': <gensim.models.keyedvectors.Vocab at 0x1bb3a49b0>,\n",
       " 'systems': <gensim.models.keyedvectors.Vocab at 0x1bb3a49e8>,\n",
       " 'resource': <gensim.models.keyedvectors.Vocab at 0x1bb3a4a20>,\n",
       " 'limited': <gensim.models.keyedvectors.Vocab at 0x1bb3a4a58>,\n",
       " 'emphasized': <gensim.models.keyedvectors.Vocab at 0x1bb3a4a90>,\n",
       " 'urgent': <gensim.models.keyedvectors.Vocab at 0x1bb3a4ac8>,\n",
       " 'need': <gensim.models.keyedvectors.Vocab at 0x1bb3a4b00>,\n",
       " 'paradigm': <gensim.models.keyedvectors.Vocab at 0x1bb3a4b38>,\n",
       " 'shift': <gensim.models.keyedvectors.Vocab at 0x1bb3a4b70>,\n",
       " 'global': <gensim.models.keyedvectors.Vocab at 0x1bb3a4ba8>,\n",
       " 'approach': <gensim.models.keyedvectors.Vocab at 0x1bb3a4be0>,\n",
       " 'healthcare': <gensim.models.keyedvectors.Vocab at 0x1bb3a4c18>,\n",
       " 'delivery': <gensim.models.keyedvectors.Vocab at 0x1bb3a4c50>,\n",
       " 'related': <gensim.models.keyedvectors.Vocab at 0x1bb3a4c88>,\n",
       " 'illness': <gensim.models.keyedvectors.Vocab at 0x1bb3a4cc0>,\n",
       " 'provides': <gensim.models.keyedvectors.Vocab at 0x1bb3a4cf8>,\n",
       " 'overview': <gensim.models.keyedvectors.Vocab at 0x1bb3a4d30>,\n",
       " 'outlines': <gensim.models.keyedvectors.Vocab at 0x1bb3a4d68>,\n",
       " 'strategies': <gensim.models.keyedvectors.Vocab at 0x1bb3a4da0>,\n",
       " 'address': <gensim.models.keyedvectors.Vocab at 0x1bb3a4dd8>,\n",
       " 'challenges': <gensim.models.keyedvectors.Vocab at 0x1bb3a4e10>,\n",
       " 'areas': <gensim.models.keyedvectors.Vocab at 0x1bb3a4e48>,\n",
       " 'implementation': <gensim.models.keyedvectors.Vocab at 0x1bb3a4e80>,\n",
       " 'tools': <gensim.models.keyedvectors.Vocab at 0x1bb3a4eb8>,\n",
       " 'potential': <gensim.models.keyedvectors.Vocab at 0x1bb3a4ef0>,\n",
       " 'move': <gensim.models.keyedvectors.Vocab at 0x1bb3a4f28>,\n",
       " 'us': <gensim.models.keyedvectors.Vocab at 0x1bb3a4f60>,\n",
       " 'toward': <gensim.models.keyedvectors.Vocab at 0x1bb3a4f98>,\n",
       " 'adequate': <gensim.models.keyedvectors.Vocab at 0x1bb3a4fd0>,\n",
       " 'standard': <gensim.models.keyedvectors.Vocab at 0x1bb3a7048>,\n",
       " 'all': <gensim.models.keyedvectors.Vocab at 0x1bb3a7080>,\n",
       " 'children': <gensim.models.keyedvectors.Vocab at 0x1bb3a70b8>,\n",
       " 'globally': <gensim.models.keyedvectors.Vocab at 0x1bb3a70f0>,\n",
       " 'ultimately': <gensim.models.keyedvectors.Vocab at 0x1bb3a7128>,\n",
       " 'decrease': <gensim.models.keyedvectors.Vocab at 0x1bb3a7160>,\n",
       " 'child': <gensim.models.keyedvectors.Vocab at 0x1bb3a7198>}"
      ]
     },
     "execution_count": 29,
     "metadata": {},
     "output_type": "execute_result"
    },
    {
     "name": "stderr",
     "output_type": "stream",
     "text": [
      "/anaconda3/lib/python3.7/site-packages/ipykernel_launcher.py:4: DeprecationWarning: Call to deprecated `most_similar` (Method will be removed in 4.0.0, use self.wv.most_similar() instead).\n",
      "  after removing the cwd from sys.path.\n"
     ]
    },
    {
     "data": {
      "text/plain": [
       "[('better', 0.29028254747390747),\n",
       " ('urgent', 0.2850519120693207),\n",
       " ('where', 0.27586880326271057),\n",
       " ('virus', 0.2684147357940674),\n",
       " ('levels', 0.25499826669692993),\n",
       " ('viral', 0.24620981514453888),\n",
       " ('subsets', 0.2262580543756485),\n",
       " ('cryptic', 0.2248000204563141),\n",
       " ('other', 0.2226489931344986),\n",
       " ('ago', 0.21679069101810455)]"
      ]
     },
     "execution_count": 29,
     "metadata": {},
     "output_type": "execute_result"
    }
   ],
   "source": [
    "# Get the vocabulary of word vector (to find any word)\n",
    "model.wv.vocab\n",
    "\n",
    "model.most_similar('antiviral')"
   ]
  },
  {
   "cell_type": "code",
   "execution_count": 30,
   "metadata": {},
   "outputs": [],
   "source": [
    "# Save and Load Model\n",
    "model.save('newmodel')\n",
    "model = Word2Vec.load('newmodel')### train Word2Vec model using gensim### train Word2Vec model using gensim"
   ]
  },
  {
   "cell_type": "code",
   "execution_count": null,
   "metadata": {},
   "outputs": [],
   "source": []
  }
 ],
 "metadata": {
  "kernelspec": {
   "display_name": "Python 3",
   "language": "python",
   "name": "python3"
  },
  "language_info": {
   "codemirror_mode": {
    "name": "ipython",
    "version": 3
   },
   "file_extension": ".py",
   "mimetype": "text/x-python",
   "name": "python",
   "nbconvert_exporter": "python",
   "pygments_lexer": "ipython3",
   "version": "3.7.3"
  }
 },
 "nbformat": 4,
 "nbformat_minor": 2
}
